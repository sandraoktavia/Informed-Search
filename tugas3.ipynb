{
  "nbformat": 4,
  "nbformat_minor": 0,
  "metadata": {
    "colab": {
      "provenance": [],
      "authorship_tag": "ABX9TyNTyw8wbyWmhD3bT2ZK8cXJ",
      "include_colab_link": true
    },
    "kernelspec": {
      "name": "python3",
      "display_name": "Python 3"
    },
    "language_info": {
      "name": "python"
    }
  },
  "cells": [
    {
      "cell_type": "markdown",
      "metadata": {
        "id": "view-in-github",
        "colab_type": "text"
      },
      "source": [
        "<a href=\"https://colab.research.google.com/github/sandraoktavia/Informed-Search/blob/main/tugas3.ipynb\" target=\"_parent\"><img src=\"https://colab.research.google.com/assets/colab-badge.svg\" alt=\"Open In Colab\"/></a>"
      ]
    },
    {
      "cell_type": "markdown",
      "source": [
        "##A star Search"
      ],
      "metadata": {
        "id": "4LPo3v-uAe0h"
      }
    },
    {
      "cell_type": "code",
      "execution_count": 5,
      "metadata": {
        "colab": {
          "base_uri": "https://localhost:8080/"
        },
        "id": "whUVVKmK-xNh",
        "outputId": "461ae8b8-22b6-4684-d15f-1d059c7f9dbf"
      },
      "outputs": [
        {
          "output_type": "stream",
          "name": "stdout",
          "text": [
            "\n",
            "Simpul tujuan ditemukan!\n",
            "Jalur terpendek: S -> B -> D -> G\n",
            "Total Biaya: 6\n"
          ]
        },
        {
          "output_type": "execute_result",
          "data": {
            "text/plain": [
              "True"
            ]
          },
          "metadata": {},
          "execution_count": 5
        }
      ],
      "source": [
        "from queue import PriorityQueue\n",
        "\n",
        "def reconstruct_path(path, start, goal):\n",
        "    \"\"\"Merekonstruksi jalur dari start ke goal berdasarkan path yang ditemukan.\"\"\"\n",
        "    current = goal\n",
        "    route = [current]\n",
        "    while current in path:  # Pastikan current ada dalam path untuk menghindari KeyError\n",
        "        current = path[current]\n",
        "        route.append(current)\n",
        "    route.reverse()\n",
        "    return route\n",
        "\n",
        "def a_star_search(graph, start, goal, heuristic):\n",
        "    \"\"\"Implementasi Algoritma A* untuk mencari jalur terpendek dalam graf berbobot.\"\"\"\n",
        "    frontier = PriorityQueue()  # Antrian prioritas\n",
        "    frontier.put((0, start))  # Masukkan simpul awal dengan biaya awal 0\n",
        "    path = {}  # Menyimpan jalur\n",
        "    g_cost = {start: 0}  # Menyimpan biaya dari start ke setiap simpul\n",
        "    explored = set()  # Simpul yang telah dikunjungi\n",
        "\n",
        "    while not frontier.empty():\n",
        "        cost_so_far, current_node = frontier.get()  # Ambil simpul dengan prioritas tertinggi\n",
        "\n",
        "        if current_node == goal:\n",
        "            print(\"\\nSimpul tujuan ditemukan!\")\n",
        "            route = reconstruct_path(path, start, goal)\n",
        "            print(\"Jalur terpendek:\", \" -> \".join(route))\n",
        "            print(\"Total Biaya:\", g_cost[goal])\n",
        "            return True\n",
        "\n",
        "        if current_node in explored:\n",
        "            continue  # Lewati jika node sudah dieksplorasi\n",
        "\n",
        "        explored.add(current_node)  # Tandai sebagai telah dikunjungi\n",
        "\n",
        "        for neighbor, cost in graph.get(current_node, {}).items():\n",
        "            new_g_cost = g_cost[current_node] + cost\n",
        "            total_cost = new_g_cost + heuristic.get(neighbor, 0)  # Gunakan get untuk menghindari KeyError\n",
        "\n",
        "            if neighbor not in g_cost or new_g_cost < g_cost[neighbor]:\n",
        "                frontier.put((total_cost, neighbor))\n",
        "                path[neighbor] = current_node  # Simpan jalur terbaik\n",
        "                g_cost[neighbor] = new_g_cost  # Perbarui biaya terendah ke simpul ini\n",
        "\n",
        "    print(\"\\nSimpul tujuan tidak ditemukan!\")\n",
        "    return False\n",
        "\n",
        "# Daftar heuristik untuk setiap simpul\n",
        "heuristic = {\n",
        "    'S': 6, 'A': 4, 'B': 3, 'C': 3, 'D': 1, 'G': 0\n",
        "}\n",
        "\n",
        "# Graf berbobot (dalam bentuk adjacency list)\n",
        "graph = {\n",
        "    'S': {'A': 3, 'B': 2},\n",
        "    'A': {'D': 5, 'B': 1},\n",
        "    'B': {'C': 2, 'D': 3},\n",
        "    'C': {'G': 4, 'D': 3},\n",
        "    'D': {'G': 1},\n",
        "}\n",
        "\n",
        "# Titik awal dan tujuan\n",
        "start_node = 'S'\n",
        "goal_node = 'G'\n",
        "\n",
        "# Panggil fungsi A* search\n",
        "a_star_search(graph, start_node, goal_node, heuristic)\n"
      ]
    },
    {
      "cell_type": "markdown",
      "source": [
        "##Greedy Best First Search"
      ],
      "metadata": {
        "id": "S9UHdTCwA2Dk"
      }
    },
    {
      "cell_type": "code",
      "source": [
        "from queue import PriorityQueue\n",
        "\n",
        "# Fungsi untuk merekonstruksi jalur dari start ke goal\n",
        "def reconstruct_path(path, start, goal):\n",
        "    current = goal\n",
        "    route = [current]\n",
        "    while current != start:\n",
        "        current = path[current]\n",
        "        route.append(current)\n",
        "    route.reverse()\n",
        "    return route\n",
        "\n",
        "# Fungsi untuk algoritma Greedy Best-First Search\n",
        "def greedy_search(graph, start, goal, heuristic):\n",
        "    frontier = PriorityQueue()  # Antrian prioritas untuk menyimpan simpul yang akan dieksplorasi\n",
        "    frontier.put((heuristic[start], start))  # Tambahkan simpul awal dengan prioritas heuristik\n",
        "    explored = set()  # Set untuk menyimpan simpul yang sudah dieksplorasi\n",
        "    path = {}  # Dictionary untuk menyimpan jalur\n",
        "\n",
        "    while not frontier.empty():\n",
        "        _, current_node = frontier.get()  # Mengambil simpul dengan nilai prioritas terendah\n",
        "\n",
        "        if current_node == goal:\n",
        "            print(\"Simpul tujuan sudah ditemukan!\")\n",
        "            route = reconstruct_path(path, start, goal)\n",
        "            print(\"Jalur terpendek:\", \" -> \".join(route))\n",
        "            return True   # Mengembalikan True jika simpul tujuan ditemukan\n",
        "\n",
        "        explored.add(current_node)  # Menandai simpul sebagai telah dieksplorasi\n",
        "\n",
        "        for neighbor in graph.get(current_node, {}):\n",
        "            if neighbor not in explored and neighbor not in [node for _, node in frontier.queue]:\n",
        "                frontier.put((heuristic[neighbor], neighbor))  # Tambahkan ke antrian prioritas\n",
        "                path[neighbor] = current_node  # Simpan jalur yang diambil\n",
        "\n",
        "    print(\"Simpul tujuan tidak ditemukan!\")\n",
        "    return False  # Jika tidak menemukan tujuan\n",
        "\n",
        "# Daftar heuristik untuk setiap simpul\n",
        "heuristic = {\n",
        "    'S': 6,\n",
        "    'A': 4,\n",
        "    'B': 3,\n",
        "    'C': 3,\n",
        "    'D': 1,\n",
        "    'G': 0\n",
        "}\n",
        "\n",
        "# Graf berbobot (dalam bentuk adjacency list)\n",
        "graph = {\n",
        "    'S': {'A', 'B'},\n",
        "    'A': {'B', 'D'},\n",
        "    'B': {'C', 'D'},\n",
        "    'C': {'D', 'G'},\n",
        "    'D': {'G'},\n",
        "}\n",
        "\n",
        "# Titik awal dan tujuan\n",
        "start_node = 'S'\n",
        "goal_node = 'G'\n",
        "\n",
        "# Panggil fungsi Greedy Search\n",
        "greedy_search(graph, start_node, goal_node, heuristic)"
      ],
      "metadata": {
        "colab": {
          "base_uri": "https://localhost:8080/"
        },
        "id": "DWzWTNAa_xqf",
        "outputId": "74e3560e-ed3f-4495-8493-f53d5125d61a"
      },
      "execution_count": 6,
      "outputs": [
        {
          "output_type": "stream",
          "name": "stdout",
          "text": [
            "Simpul tujuan sudah ditemukan!\n",
            "Jalur terpendek: S -> B -> D -> G\n"
          ]
        },
        {
          "output_type": "execute_result",
          "data": {
            "text/plain": [
              "True"
            ]
          },
          "metadata": {},
          "execution_count": 6
        }
      ]
    }
  ]
}